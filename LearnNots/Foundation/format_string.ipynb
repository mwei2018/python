{
 "cells": [
  {
   "cell_type": "markdown",
   "metadata": {},
   "source": [
    "# format string"
   ]
  },
  {
   "cell_type": "markdown",
   "metadata": {},
   "source": [
    "## Chapter 1 字符串在展现对齐处理，利用format函数填充留白\n",
    "在python3中字符串格式推荐使用format"
   ]
  },
  {
   "cell_type": "code",
   "execution_count": 11,
   "metadata": {},
   "outputs": [
    {
     "name": "stdout",
     "output_type": "stream",
     "text": [
      "AAAAAAAAAAAAAAAAAAAA\n",
      "               China\n"
     ]
    }
   ],
   "source": [
    "# Setup text\n",
    "text='China'\n",
    "\n",
    "#Align right:  Add Spaces Of Padding To The Left (>) \n",
    "print('A'*20)\n",
    "print(format(text, '>20'))"
   ]
  },
  {
   "cell_type": "code",
   "execution_count": 12,
   "metadata": {},
   "outputs": [
    {
     "name": "stdout",
     "output_type": "stream",
     "text": [
      "AAAAAAAAAAAAAAAAAAAA\n",
      "China               \n"
     ]
    }
   ],
   "source": [
    "#Align left: Add Spaces Of Padding To The Right (<)\n",
    "print('A'*20)\n",
    "print(format(text, '<20'))"
   ]
  },
  {
   "cell_type": "code",
   "execution_count": 13,
   "metadata": {},
   "outputs": [
    {
     "name": "stdout",
     "output_type": "stream",
     "text": [
      "AAAAAAAAAAAAAAAAAAAA\n",
      "       China        \n"
     ]
    }
   ],
   "source": [
    "# Add Spaces Of Padding On Each Side\n",
    "print('A'*20)\n",
    "print(format(text, '^20'))"
   ]
  },
  {
   "cell_type": "code",
   "execution_count": 14,
   "metadata": {},
   "outputs": [
    {
     "name": "stdout",
     "output_type": "stream",
     "text": [
      "AAAAAAAAAAAAAAAAAAAA\n",
      "*******China********\n"
     ]
    }
   ],
   "source": [
    "# Add * Of Padding On Each Side\n",
    "\n",
    "print('A'*20)\n",
    "print(format(text, '*^20'))"
   ]
  },
  {
   "cell_type": "code",
   "execution_count": 15,
   "metadata": {},
   "outputs": [
    {
     "name": "stdout",
     "output_type": "stream",
     "text": [
      "               |   lat   |  long.  \n",
      "China          |  35.6897| 139.6917\n"
     ]
    }
   ],
   "source": [
    "print('{:15}|{:^9}|{:^9}'.format('','lat','long.'))\n",
    "fmt='{:15}|{:9.4f}|{:9.4f}'\n",
    "latitude=35.689722\n",
    "longitude=139.691667\n",
    "print(fmt.format(text,latitude,longitude))"
   ]
  },
  {
   "cell_type": "markdown",
   "metadata": {},
   "source": [
    "## Chapter 2 字符截取一定长度："
   ]
  },
  {
   "cell_type": "code",
   "execution_count": 18,
   "metadata": {},
   "outputs": [
    {
     "name": "stdout",
     "output_type": "stream",
     "text": [
      "xylop\n",
      "xylop\n",
      "xylop\n"
     ]
    }
   ],
   "source": [
    "# 方法1 利用format,.后面是截取的长度\n",
    "\n",
    "print('%.5s' % ('xylophone',))# old \n",
    "\n",
    "print('{:.5}'.format('xylophone'))# new\n",
    "\n",
    "# 方法2：利用切片,切片功能更灵活，可以取任意位置元素，包括字符串元素反转都可以用切片功能\n",
    "print('xylophone'[:5])"
   ]
  },
  {
   "cell_type": "code",
   "execution_count": 23,
   "metadata": {},
   "outputs": [
    {
     "name": "stdout",
     "output_type": "stream",
     "text": [
      "xylop     \n",
      "  42\n",
      "  42\n"
     ]
    }
   ],
   "source": [
    "# 10 个字符位置，同时截取字符串前5位\n",
    "print('{:10.5}'.format('xylophone'))\n",
    "# 4个字符位置以数字方式显示后面文本\n",
    "print('%4d' % (42,)) #old\n",
    "print('{:4d}'.format(42)) #new"
   ]
  },
  {
   "cell_type": "code",
   "execution_count": 24,
   "metadata": {},
   "outputs": [
    {
     "name": "stdout",
     "output_type": "stream",
     "text": [
      "003.14\n",
      "003.14\n"
     ]
    }
   ],
   "source": [
    "#6位长度，同时小数点后面保留2位长度，前面不够6位用0补齐\n",
    "print('%06.2f' % (3.141592653589793,)) #old\n",
    "print('{:06.2f}'.format(3.141592653589793)) #new\n"
   ]
  },
  {
   "cell_type": "code",
   "execution_count": 27,
   "metadata": {},
   "outputs": [
    {
     "name": "stdout",
     "output_type": "stream",
     "text": [
      "-23\n",
      "-23\n",
      " 42\n",
      " 42\n",
      "-  23\n",
      "+  23\n"
     ]
    }
   ],
   "source": [
    "# 占位字符\n",
    "print('% d' % ((- 23),))#old\n",
    "print('{: d}'.format((- 23)))#new\n",
    "print('% d' % (42,))#old\n",
    "print('{: d}'.format(42))#new\n",
    "\n",
    "print('{:=5d}'.format((- 23)))\n",
    "print('{:=+5d}'.format(23))"
   ]
  },
  {
   "cell_type": "code",
   "execution_count": 34,
   "metadata": {},
   "outputs": [
    {
     "name": "stdout",
     "output_type": "stream",
     "text": [
      "mason wei\n",
      "mason wei\n",
      "mason wei\n",
      "16 42\n"
     ]
    }
   ],
   "source": [
    "# format 除了用索引来指定顺序外还可以支持名字占位符\n",
    "person = {'first': 'mason', 'last': 'wei'}\n",
    "print('%(first)s %(last)s' % person)#old\n",
    "print('{first} {last}'.format(**person))#new\n",
    "print('{p[first]} {p[last]}'.format(p=person))\n",
    "\n",
    "data = [4, 8, 15, 16, 23, 42]\n",
    "print('{d[3]} {d[5]}'.format(d=data))"
   ]
  },
  {
   "cell_type": "code",
   "execution_count": null,
   "metadata": {},
   "outputs": [],
   "source": []
  }
 ],
 "metadata": {
  "kernelspec": {
   "display_name": "Python 3",
   "language": "python",
   "name": "python3"
  },
  "language_info": {
   "codemirror_mode": {
    "name": "ipython",
    "version": 3
   },
   "file_extension": ".py",
   "mimetype": "text/x-python",
   "name": "python",
   "nbconvert_exporter": "python",
   "pygments_lexer": "ipython3",
   "version": "3.7.1"
  }
 },
 "nbformat": 4,
 "nbformat_minor": 2
}
