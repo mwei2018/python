{
 "cells": [
  {
   "cell_type": "markdown",
   "metadata": {},
   "source": [
    "## Pandas Dataframe: Column Operations \n"
   ]
  },
  {
   "cell_type": "code",
   "execution_count": 9,
   "metadata": {},
   "outputs": [
    {
     "name": "stdout",
     "output_type": "stream",
     "text": [
      "     name  age\n",
      "0    mwei   20\n",
      "1  warren   18\n",
      "2   shine   22\n",
      "3    dong   23\n",
      "Index(['name', 'age'], dtype='object')\n",
      "['name' 'age']\n"
     ]
    }
   ],
   "source": [
    "import pandas as pd\n",
    "\n",
    "df = pd.DataFrame(\n",
    "    {\"name\": [\"mwei\", \"warren\", \"shine\", \"dong\"], \"age\": [20, 18, 22, 23]}\n",
    ")\n",
    "print(df)\n",
    "# 查看df的列\n",
    "print(df.columns)\n",
    "print(df.columns.values)\n"
   ]
  },
  {
   "cell_type": "markdown",
   "metadata": {},
   "source": [
    "### 修改Dataframe的列名"
   ]
  },
  {
   "cell_type": "code",
   "execution_count": 10,
   "metadata": {},
   "outputs": [
    {
     "name": "stdout",
     "output_type": "stream",
     "text": [
      "  person_name  age_years\n",
      "0        mwei         20\n",
      "1      warren         18\n",
      "2       shine         22\n",
      "3        dong         23\n"
     ]
    }
   ],
   "source": [
    "# 方法1 通过rename函数\n",
    "df = df.rename(columns={\"name\": \"person_name\", \"age\": \"age_years\"})\n",
    "print(df)\n",
    "\n"
   ]
  },
  {
   "cell_type": "code",
   "execution_count": 11,
   "metadata": {},
   "outputs": [
    {
     "name": "stdout",
     "output_type": "stream",
     "text": [
      "  person_name  age_in_years\n",
      "0        mwei            20\n",
      "1      warren            18\n",
      "2       shine            22\n",
      "3        dong            23\n"
     ]
    }
   ],
   "source": [
    "# 方法2 直接指定列名,进行重命名\n",
    "df.columns = [\"person_name\", \"age_in_years\"]\n",
    "print(df)"
   ]
  },
  {
   "cell_type": "code",
   "execution_count": 12,
   "metadata": {},
   "outputs": [
    {
     "name": "stdout",
     "output_type": "stream",
     "text": [
      "  PERSON_NAME  AGE_IN_YEARS\n",
      "0        mwei            20\n",
      "1      warren            18\n",
      "2       shine            22\n",
      "3        dong            23\n"
     ]
    }
   ],
   "source": [
    "# 方法3 利用推导式做些简单转换，比如转换列名为大写\n",
    "df.columns = [col.upper() for col in df.columns]\n",
    "print(df)"
   ]
  },
  {
   "cell_type": "code",
   "execution_count": null,
   "metadata": {},
   "outputs": [],
   "source": []
  }
 ],
 "metadata": {
  "kernelspec": {
   "display_name": "Python 3",
   "language": "python",
   "name": "python3"
  },
  "language_info": {
   "codemirror_mode": {
    "name": "ipython",
    "version": 3
   },
   "file_extension": ".py",
   "mimetype": "text/x-python",
   "name": "python",
   "nbconvert_exporter": "python",
   "pygments_lexer": "ipython3",
   "version": "3.7.1"
  }
 },
 "nbformat": 4,
 "nbformat_minor": 2
}
